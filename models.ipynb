{
 "cells": [
  {
   "cell_type": "code",
   "execution_count": 1,
   "id": "initial_id",
   "metadata": {
    "collapsed": true,
    "ExecuteTime": {
     "end_time": "2024-04-06T14:19:55.632973Z",
     "start_time": "2024-04-06T14:19:54.891861Z"
    }
   },
   "outputs": [],
   "source": [
    "import pandas as pd\n",
    "import numpy as np"
   ]
  },
  {
   "cell_type": "code",
   "outputs": [],
   "source": [
    "features_target_train = pd.read_csv(\"data/features_target_train.csv\")\n",
    "features_target_test = pd.read_csv(\"data/features_target_test.csv\")"
   ],
   "metadata": {
    "collapsed": false,
    "ExecuteTime": {
     "end_time": "2024-04-06T14:19:55.839171Z",
     "start_time": "2024-04-06T14:19:55.634967Z"
    }
   },
   "id": "843d5112a4457664",
   "execution_count": 2
  },
  {
   "cell_type": "code",
   "outputs": [],
   "source": [
    "columns = features_target_train.columns"
   ],
   "metadata": {
    "collapsed": false,
    "ExecuteTime": {
     "end_time": "2024-04-06T14:19:55.855126Z",
     "start_time": "2024-04-06T14:19:55.841073Z"
    }
   },
   "id": "d69c7273763c298",
   "execution_count": 3
  },
  {
   "cell_type": "code",
   "outputs": [],
   "source": [
    "X_train = features_target_train[columns[:-1]]\n",
    "X_test = features_target_test[columns[:-1]]\n",
    "\n",
    "y_train = features_target_train[columns[-1]]\n",
    "y_test = features_target_test[columns[-1]]"
   ],
   "metadata": {
    "collapsed": false,
    "ExecuteTime": {
     "end_time": "2024-04-06T14:19:55.870992Z",
     "start_time": "2024-04-06T14:19:55.856032Z"
    }
   },
   "id": "eb346fb1fcc168b",
   "execution_count": 4
  },
  {
   "cell_type": "markdown",
   "source": [
    "# Check for zero variance columns"
   ],
   "metadata": {
    "collapsed": false
   },
   "id": "21fee9838af5fcaa"
  },
  {
   "cell_type": "code",
   "outputs": [
    {
     "name": "stdout",
     "output_type": "stream",
     "text": [
      "SMR_VSA8 0.0\n",
      "SlogP_VSA9 0.0\n",
      "fr_diazo 0.0\n",
      "fr_prisulfonamd 0.0\n"
     ]
    }
   ],
   "source": [
    "for column, variance in X_train.var().items():\n",
    "    if variance == 0:\n",
    "        print(column, variance)"
   ],
   "metadata": {
    "collapsed": false,
    "ExecuteTime": {
     "end_time": "2024-04-06T14:19:55.902908Z",
     "start_time": "2024-04-06T14:19:55.874982Z"
    }
   },
   "id": "afec344177a0af79",
   "execution_count": 5
  },
  {
   "cell_type": "code",
   "outputs": [],
   "source": [],
   "metadata": {
    "collapsed": false,
    "ExecuteTime": {
     "end_time": "2024-04-06T14:19:55.918864Z",
     "start_time": "2024-04-06T14:19:55.904902Z"
    }
   },
   "id": "afcf76e8076f3aa9",
   "execution_count": 5
  }
 ],
 "metadata": {
  "kernelspec": {
   "display_name": "Python 3",
   "language": "python",
   "name": "python3"
  },
  "language_info": {
   "codemirror_mode": {
    "name": "ipython",
    "version": 2
   },
   "file_extension": ".py",
   "mimetype": "text/x-python",
   "name": "python",
   "nbconvert_exporter": "python",
   "pygments_lexer": "ipython2",
   "version": "2.7.6"
  }
 },
 "nbformat": 4,
 "nbformat_minor": 5
}
